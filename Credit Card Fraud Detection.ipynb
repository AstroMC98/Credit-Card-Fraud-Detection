{
 "cells": [
  {
   "cell_type": "code",
   "execution_count": 1,
   "id": "a19eb439",
   "metadata": {
    "ExecuteTime": {
     "end_time": "2022-02-18T09:22:48.499445Z",
     "start_time": "2022-02-18T09:22:46.050892Z"
    }
   },
   "outputs": [
    {
     "name": "stderr",
     "output_type": "stream",
     "text": [
      "Matplotlib created a temporary config/cache directory at /tmp/matplotlib-xpb9jpvs because the default path (/home/mcastro/.cache/matplotlib) is not a writable directory; it is highly recommended to set the MPLCONFIGDIR environment variable to a writable directory, in particular to speed up the import of Matplotlib and to better support multiprocessing.\n"
     ]
    }
   ],
   "source": [
    "import warnings\n",
    "warnings.filterwarnings(\"ignore\")\n",
    "\n",
    "import matplotlib\n",
    "import pandas as pd\n",
    "import matplotlib.pyplot as plt\n",
    "\n",
    "from IPython.core.display import HTML\n",
    "\n",
    "pd.set_option('display.max_columns', None)\n",
    "pd.set_option('display.width', None) \n",
    "pd.set_option('display.max_rows',None)\n",
    "\n",
    "\n",
    "matplotlib.style.use('ggplot')\n",
    "plt.rcParams[\"figure.figsize\"] = (10, 7)"
   ]
  },
  {
   "cell_type": "markdown",
   "id": "a020f39b",
   "metadata": {},
   "source": [
    "*Click Hero image to reveal code cells...*"
   ]
  },
  {
   "cell_type": "code",
   "execution_count": 2,
   "id": "5d898049",
   "metadata": {
    "ExecuteTime": {
     "end_time": "2022-02-18T09:22:48.506776Z",
     "start_time": "2022-02-18T09:22:48.501194Z"
    },
    "scrolled": false
   },
   "outputs": [
    {
     "data": {
      "text/html": [
       "\n",
       "<script>\n",
       "code_show=true;\n",
       "function code_toggle() {\n",
       " if (code_show){\n",
       " $('div.input').hide();\n",
       " } else {\n",
       " $('div.input').show();\n",
       " }\n",
       " code_show = !code_show\n",
       "}\n",
       "$( document ).ready(code_toggle);\n",
       "</script>\n",
       "<form action=\"javascript:code_toggle()\">\n",
       "<center> <input type=\"image\" width=\"100%\" height=\"100%\" alt=\"Click to toggle on/off the raw code\" src='https://raw.githubusercontent.com/AstroMC98/Credit-Card-Fraud-Detection/main/hero.png' border=\"0\"> </center>\n",
       "</form>"
      ],
      "text/plain": [
       "<IPython.core.display.HTML object>"
      ]
     },
     "metadata": {},
     "output_type": "display_data"
    }
   ],
   "source": [
    "display(HTML(\"\"\"\n",
    "<script>\n",
    "code_show=true;\n",
    "function code_toggle() {\n",
    " if (code_show){\n",
    " $('div.input').hide();\n",
    " } else {\n",
    " $('div.input').show();\n",
    " }\n",
    " code_show = !code_show\n",
    "}\n",
    "$( document ).ready(code_toggle);\n",
    "</script>\n",
    "<form action=\"javascript:code_toggle()\">\n",
    "<center> <input type=\"image\" width=\"100%\" height=\"100%\" alt=\"Click to toggle on/off the raw code\" src='https://raw.githubusercontent.com/AstroMC98/Credit-Card-Fraud-Detection/main/hero.png' border=\"0\"> </center>\n",
    "</form>\"\"\"))"
   ]
  },
  {
   "cell_type": "code",
   "execution_count": null,
   "id": "241587df",
   "metadata": {},
   "outputs": [],
   "source": []
  },
  {
   "cell_type": "markdown",
   "id": "683107c6",
   "metadata": {},
   "source": [
    "<div><span style=\"background-color: #47535c; padding-top: 100px; padding-right: 20px; padding-bottom: 50px; padding-left: 20px; color: #FFFFFF; font-size: 25px; font-weight: bold\">1. INTRODUCTION </span></div>"
   ]
  },
  {
   "cell_type": "markdown",
   "id": "71fc456a",
   "metadata": {},
   "source": [
    "In the era of online transactions and the rapid rise of E-commerce, the need for rapid detection systems for credit card fraud detection is clearly evident. Through the use of phishing emails and fraudulent calls, scammers and malicious people may be able to access and retrieve credit card information and use them for transactions in which credit card owners may or may not be aware of. Due to the rapid development and focus on ease-of-use in online payments, mitigating these fraudulent transactions without causing inconveniences for card owners has been an ideal in which analysts strive for. Due to the current limitations of tech, there are only a handful of early detection methods that can satisfy these needs up to a certain degree. One such method is through outlier analysis or anomaly detection which examines the patterns of historical transactions of each card holder and identify any abnormalities that may seem out of place or outside the normal bounds of the user's typical behaviour. Through identifying these irregularities, banks may intervene with the other party in a transaction and warn them of the concerning behaviour - whereas, in some cases, they automatically stop the transaction after the request to pay is made. In this study, we hope to investigate the use of Outlier Detection algorithms such as `Local Outlier Factor`, `Isolation Trees`, `One-Class SVM`, and `DBSCAN` to detect frauds from a dataset of credit card transactions. Note that for the purpose of this study, we will only limit our analysis to a sample of the dataset retrieved from the original dataset as to account for the memory limitations and runtimes."
   ]
  },
  {
   "cell_type": "markdown",
   "id": "9fe66a0f",
   "metadata": {},
   "source": [
    "<div><span style=\"background-color: #47535c; padding-top: 100px; padding-right: 20px; padding-bottom: 50px; padding-left: 20px; color: #FFFFFF; font-size: 25px; font-weight: bold\">2. HIGHLIGHTS</span></div>"
   ]
  },
  {
   "cell_type": "markdown",
   "id": "b19d3234",
   "metadata": {},
   "source": [
    "* Metrics matter for identifying the best algorithm in outlier detection.\n",
    "* Unlike classification algorithms, outlier detection algorithms learns the inherent properties of a dataset such as distribution to identify outliers without knowledge of the target results.\n",
    "* There is a trade-off between identifying more fraudulent transactions at a lower accuracy versus fewer detected fraudulent transactions at a higher accuracy."
   ]
  },
  {
   "cell_type": "markdown",
   "id": "b795a91f",
   "metadata": {},
   "source": [
    "<div><span style=\"background-color: #47535c; padding-top: 100px; padding-right: 20px; padding-bottom: 50px; padding-left: 20px; color: #FFFFFF; font-size: 25px; font-weight: bold\">3. EXPLORATORY DATA ANALYSIS </span></div>"
   ]
  },
  {
   "cell_type": "markdown",
   "id": "5d029a3e",
   "metadata": {
    "ExecuteTime": {
     "end_time": "2022-02-18T05:31:56.571877Z",
     "start_time": "2022-02-18T05:31:56.567604Z"
    }
   },
   "source": [
    "For the purpose of this paper, we limit the tasked credit card transaction dataset to its first 25,000 rows. The dataset is then split into the training features and target variable. Considering that the dataset contains mostly PCA-generated features, we retain all V_ columns to feed into our outlier detection algorithms."
   ]
  },
  {
   "cell_type": "code",
   "execution_count": 3,
   "id": "85b4b2dd",
   "metadata": {
    "ExecuteTime": {
     "end_time": "2022-02-18T09:22:48.512457Z",
     "start_time": "2022-02-18T09:22:48.509083Z"
    }
   },
   "outputs": [],
   "source": [
    "import pandas as pd\n",
    "import numpy as np"
   ]
  },
  {
   "cell_type": "code",
   "execution_count": 4,
   "id": "e9d70abe",
   "metadata": {
    "ExecuteTime": {
     "end_time": "2022-02-18T09:22:48.712851Z",
     "start_time": "2022-02-18T09:22:48.513883Z"
    }
   },
   "outputs": [
    {
     "data": {
      "text/html": [
       "<div>\n",
       "<style scoped>\n",
       "    .dataframe tbody tr th:only-of-type {\n",
       "        vertical-align: middle;\n",
       "    }\n",
       "\n",
       "    .dataframe tbody tr th {\n",
       "        vertical-align: top;\n",
       "    }\n",
       "\n",
       "    .dataframe thead th {\n",
       "        text-align: right;\n",
       "    }\n",
       "</style>\n",
       "<table border=\"1\" class=\"dataframe\">\n",
       "  <thead>\n",
       "    <tr style=\"text-align: right;\">\n",
       "      <th></th>\n",
       "      <th>Amount</th>\n",
       "      <th>Time</th>\n",
       "      <th>V1</th>\n",
       "      <th>V10</th>\n",
       "      <th>V11</th>\n",
       "      <th>V12</th>\n",
       "      <th>V13</th>\n",
       "      <th>V14</th>\n",
       "      <th>V15</th>\n",
       "      <th>V16</th>\n",
       "      <th>V17</th>\n",
       "      <th>V18</th>\n",
       "      <th>V19</th>\n",
       "      <th>V2</th>\n",
       "      <th>V20</th>\n",
       "      <th>V21</th>\n",
       "      <th>V22</th>\n",
       "      <th>V23</th>\n",
       "      <th>V24</th>\n",
       "      <th>V25</th>\n",
       "      <th>V26</th>\n",
       "      <th>V27</th>\n",
       "      <th>V28</th>\n",
       "      <th>V3</th>\n",
       "      <th>V4</th>\n",
       "      <th>V5</th>\n",
       "      <th>V6</th>\n",
       "      <th>V7</th>\n",
       "      <th>V8</th>\n",
       "      <th>V9</th>\n",
       "    </tr>\n",
       "  </thead>\n",
       "  <tbody>\n",
       "    <tr>\n",
       "      <th>0</th>\n",
       "      <td>149.62</td>\n",
       "      <td>0</td>\n",
       "      <td>-1.359807</td>\n",
       "      <td>0.090794</td>\n",
       "      <td>-0.551600</td>\n",
       "      <td>-0.617801</td>\n",
       "      <td>-0.991390</td>\n",
       "      <td>-0.311169</td>\n",
       "      <td>1.468177</td>\n",
       "      <td>-0.470401</td>\n",
       "      <td>0.207971</td>\n",
       "      <td>0.025791</td>\n",
       "      <td>0.403993</td>\n",
       "      <td>-0.072781</td>\n",
       "      <td>0.251412</td>\n",
       "      <td>-0.018307</td>\n",
       "      <td>0.277838</td>\n",
       "      <td>-0.110474</td>\n",
       "      <td>0.066928</td>\n",
       "      <td>0.128539</td>\n",
       "      <td>-0.189115</td>\n",
       "      <td>0.133558</td>\n",
       "      <td>-0.021053</td>\n",
       "      <td>2.536347</td>\n",
       "      <td>1.378155</td>\n",
       "      <td>-0.338321</td>\n",
       "      <td>0.462388</td>\n",
       "      <td>0.239599</td>\n",
       "      <td>0.098698</td>\n",
       "      <td>0.363787</td>\n",
       "    </tr>\n",
       "    <tr>\n",
       "      <th>1</th>\n",
       "      <td>2.69</td>\n",
       "      <td>0</td>\n",
       "      <td>1.191857</td>\n",
       "      <td>-0.166974</td>\n",
       "      <td>1.612727</td>\n",
       "      <td>1.065235</td>\n",
       "      <td>0.489095</td>\n",
       "      <td>-0.143772</td>\n",
       "      <td>0.635558</td>\n",
       "      <td>0.463917</td>\n",
       "      <td>-0.114805</td>\n",
       "      <td>-0.183361</td>\n",
       "      <td>-0.145783</td>\n",
       "      <td>0.266151</td>\n",
       "      <td>-0.069083</td>\n",
       "      <td>-0.225775</td>\n",
       "      <td>-0.638672</td>\n",
       "      <td>0.101288</td>\n",
       "      <td>-0.339846</td>\n",
       "      <td>0.167170</td>\n",
       "      <td>0.125895</td>\n",
       "      <td>-0.008983</td>\n",
       "      <td>0.014724</td>\n",
       "      <td>0.166480</td>\n",
       "      <td>0.448154</td>\n",
       "      <td>0.060018</td>\n",
       "      <td>-0.082361</td>\n",
       "      <td>-0.078803</td>\n",
       "      <td>0.085102</td>\n",
       "      <td>-0.255425</td>\n",
       "    </tr>\n",
       "    <tr>\n",
       "      <th>2</th>\n",
       "      <td>378.66</td>\n",
       "      <td>1</td>\n",
       "      <td>-1.358354</td>\n",
       "      <td>0.207643</td>\n",
       "      <td>0.624501</td>\n",
       "      <td>0.066084</td>\n",
       "      <td>0.717293</td>\n",
       "      <td>-0.165946</td>\n",
       "      <td>2.345865</td>\n",
       "      <td>-2.890083</td>\n",
       "      <td>1.109969</td>\n",
       "      <td>-0.121359</td>\n",
       "      <td>-2.261857</td>\n",
       "      <td>-1.340163</td>\n",
       "      <td>0.524980</td>\n",
       "      <td>0.247998</td>\n",
       "      <td>0.771679</td>\n",
       "      <td>0.909412</td>\n",
       "      <td>-0.689281</td>\n",
       "      <td>-0.327642</td>\n",
       "      <td>-0.139097</td>\n",
       "      <td>-0.055353</td>\n",
       "      <td>-0.059752</td>\n",
       "      <td>1.773209</td>\n",
       "      <td>0.379780</td>\n",
       "      <td>-0.503198</td>\n",
       "      <td>1.800499</td>\n",
       "      <td>0.791461</td>\n",
       "      <td>0.247676</td>\n",
       "      <td>-1.514654</td>\n",
       "    </tr>\n",
       "    <tr>\n",
       "      <th>3</th>\n",
       "      <td>123.50</td>\n",
       "      <td>1</td>\n",
       "      <td>-0.966272</td>\n",
       "      <td>-0.054952</td>\n",
       "      <td>-0.226487</td>\n",
       "      <td>0.178228</td>\n",
       "      <td>0.507757</td>\n",
       "      <td>-0.287924</td>\n",
       "      <td>-0.631418</td>\n",
       "      <td>-1.059647</td>\n",
       "      <td>-0.684093</td>\n",
       "      <td>1.965775</td>\n",
       "      <td>-1.232622</td>\n",
       "      <td>-0.185226</td>\n",
       "      <td>-0.208038</td>\n",
       "      <td>-0.108300</td>\n",
       "      <td>0.005274</td>\n",
       "      <td>-0.190321</td>\n",
       "      <td>-1.175575</td>\n",
       "      <td>0.647376</td>\n",
       "      <td>-0.221929</td>\n",
       "      <td>0.062723</td>\n",
       "      <td>0.061458</td>\n",
       "      <td>1.792993</td>\n",
       "      <td>-0.863291</td>\n",
       "      <td>-0.010309</td>\n",
       "      <td>1.247203</td>\n",
       "      <td>0.237609</td>\n",
       "      <td>0.377436</td>\n",
       "      <td>-1.387024</td>\n",
       "    </tr>\n",
       "    <tr>\n",
       "      <th>4</th>\n",
       "      <td>69.99</td>\n",
       "      <td>2</td>\n",
       "      <td>-1.158233</td>\n",
       "      <td>0.753074</td>\n",
       "      <td>-0.822843</td>\n",
       "      <td>0.538196</td>\n",
       "      <td>1.345852</td>\n",
       "      <td>-1.119670</td>\n",
       "      <td>0.175121</td>\n",
       "      <td>-0.451449</td>\n",
       "      <td>-0.237033</td>\n",
       "      <td>-0.038195</td>\n",
       "      <td>0.803487</td>\n",
       "      <td>0.877737</td>\n",
       "      <td>0.408542</td>\n",
       "      <td>-0.009431</td>\n",
       "      <td>0.798278</td>\n",
       "      <td>-0.137458</td>\n",
       "      <td>0.141267</td>\n",
       "      <td>-0.206010</td>\n",
       "      <td>0.502292</td>\n",
       "      <td>0.219422</td>\n",
       "      <td>0.215153</td>\n",
       "      <td>1.548718</td>\n",
       "      <td>0.403034</td>\n",
       "      <td>-0.407193</td>\n",
       "      <td>0.095921</td>\n",
       "      <td>0.592941</td>\n",
       "      <td>-0.270533</td>\n",
       "      <td>0.817739</td>\n",
       "    </tr>\n",
       "  </tbody>\n",
       "</table>\n",
       "</div>"
      ],
      "text/plain": [
       "   Amount  Time        V1       V10       V11       V12       V13       V14  \\\n",
       "0  149.62     0 -1.359807  0.090794 -0.551600 -0.617801 -0.991390 -0.311169   \n",
       "1    2.69     0  1.191857 -0.166974  1.612727  1.065235  0.489095 -0.143772   \n",
       "2  378.66     1 -1.358354  0.207643  0.624501  0.066084  0.717293 -0.165946   \n",
       "3  123.50     1 -0.966272 -0.054952 -0.226487  0.178228  0.507757 -0.287924   \n",
       "4   69.99     2 -1.158233  0.753074 -0.822843  0.538196  1.345852 -1.119670   \n",
       "\n",
       "        V15       V16       V17       V18       V19        V2       V20  \\\n",
       "0  1.468177 -0.470401  0.207971  0.025791  0.403993 -0.072781  0.251412   \n",
       "1  0.635558  0.463917 -0.114805 -0.183361 -0.145783  0.266151 -0.069083   \n",
       "2  2.345865 -2.890083  1.109969 -0.121359 -2.261857 -1.340163  0.524980   \n",
       "3 -0.631418 -1.059647 -0.684093  1.965775 -1.232622 -0.185226 -0.208038   \n",
       "4  0.175121 -0.451449 -0.237033 -0.038195  0.803487  0.877737  0.408542   \n",
       "\n",
       "        V21       V22       V23       V24       V25       V26       V27  \\\n",
       "0 -0.018307  0.277838 -0.110474  0.066928  0.128539 -0.189115  0.133558   \n",
       "1 -0.225775 -0.638672  0.101288 -0.339846  0.167170  0.125895 -0.008983   \n",
       "2  0.247998  0.771679  0.909412 -0.689281 -0.327642 -0.139097 -0.055353   \n",
       "3 -0.108300  0.005274 -0.190321 -1.175575  0.647376 -0.221929  0.062723   \n",
       "4 -0.009431  0.798278 -0.137458  0.141267 -0.206010  0.502292  0.219422   \n",
       "\n",
       "        V28        V3        V4        V5        V6        V7        V8  \\\n",
       "0 -0.021053  2.536347  1.378155 -0.338321  0.462388  0.239599  0.098698   \n",
       "1  0.014724  0.166480  0.448154  0.060018 -0.082361 -0.078803  0.085102   \n",
       "2 -0.059752  1.773209  0.379780 -0.503198  1.800499  0.791461  0.247676   \n",
       "3  0.061458  1.792993 -0.863291 -0.010309  1.247203  0.237609  0.377436   \n",
       "4  0.215153  1.548718  0.403034 -0.407193  0.095921  0.592941 -0.270533   \n",
       "\n",
       "         V9  \n",
       "0  0.363787  \n",
       "1 -0.255425  \n",
       "2 -1.514654  \n",
       "3 -1.387024  \n",
       "4  0.817739  "
      ]
     },
     "metadata": {},
     "output_type": "display_data"
    }
   ],
   "source": [
    "df = pd.read_csv('/mnt/data/public/creditcard/creditcard.csv', nrows =25_000)\n",
    "X = df[df.columns.difference(['Class'])]\n",
    "target = df['Class']\n",
    "display(X.head())"
   ]
  },
  {
   "cell_type": "markdown",
   "id": "078e2d3e",
   "metadata": {},
   "source": [
    "We utilize the built-in method `describe()` of pandas DataFrames to generate a high-level overview of our data. All PCA'd columns (`V_ columns`), are scaled similarly in contrast to the columns `Amount` and `Time`. Through experimentation, we saw that the column `Time` resulted in poorer results for some algorithms. As such we opted to restrict this report to our results for input data without the `Time` column."
   ]
  },
  {
   "cell_type": "code",
   "execution_count": 5,
   "id": "aa909217",
   "metadata": {
    "ExecuteTime": {
     "end_time": "2022-02-18T09:22:48.817544Z",
     "start_time": "2022-02-18T09:22:48.714990Z"
    },
    "scrolled": true
   },
   "outputs": [
    {
     "data": {
      "text/html": [
       "<div>\n",
       "<style scoped>\n",
       "    .dataframe tbody tr th:only-of-type {\n",
       "        vertical-align: middle;\n",
       "    }\n",
       "\n",
       "    .dataframe tbody tr th {\n",
       "        vertical-align: top;\n",
       "    }\n",
       "\n",
       "    .dataframe thead th {\n",
       "        text-align: right;\n",
       "    }\n",
       "</style>\n",
       "<table border=\"1\" class=\"dataframe\">\n",
       "  <thead>\n",
       "    <tr style=\"text-align: right;\">\n",
       "      <th></th>\n",
       "      <th>Amount</th>\n",
       "      <th>V1</th>\n",
       "      <th>V10</th>\n",
       "      <th>V11</th>\n",
       "      <th>V12</th>\n",
       "      <th>V13</th>\n",
       "      <th>V14</th>\n",
       "      <th>V15</th>\n",
       "      <th>V16</th>\n",
       "      <th>V17</th>\n",
       "      <th>V18</th>\n",
       "      <th>V19</th>\n",
       "      <th>V2</th>\n",
       "      <th>V20</th>\n",
       "      <th>V21</th>\n",
       "      <th>V22</th>\n",
       "      <th>V23</th>\n",
       "      <th>V24</th>\n",
       "      <th>V25</th>\n",
       "      <th>V26</th>\n",
       "      <th>V27</th>\n",
       "      <th>V28</th>\n",
       "      <th>V3</th>\n",
       "      <th>V4</th>\n",
       "      <th>V5</th>\n",
       "      <th>V6</th>\n",
       "      <th>V7</th>\n",
       "      <th>V8</th>\n",
       "      <th>V9</th>\n",
       "    </tr>\n",
       "  </thead>\n",
       "  <tbody>\n",
       "    <tr>\n",
       "      <th>count</th>\n",
       "      <td>25000.000000</td>\n",
       "      <td>25000.000000</td>\n",
       "      <td>25000.000000</td>\n",
       "      <td>25000.000000</td>\n",
       "      <td>25000.000000</td>\n",
       "      <td>25000.000000</td>\n",
       "      <td>25000.000000</td>\n",
       "      <td>25000.000000</td>\n",
       "      <td>25000.000000</td>\n",
       "      <td>25000.000000</td>\n",
       "      <td>25000.000000</td>\n",
       "      <td>25000.000000</td>\n",
       "      <td>25000.000000</td>\n",
       "      <td>25000.000000</td>\n",
       "      <td>25000.000000</td>\n",
       "      <td>25000.000000</td>\n",
       "      <td>25000.000000</td>\n",
       "      <td>25000.000000</td>\n",
       "      <td>25000.000000</td>\n",
       "      <td>25000.000000</td>\n",
       "      <td>25000.000000</td>\n",
       "      <td>25000.000000</td>\n",
       "      <td>25000.000000</td>\n",
       "      <td>25000.000000</td>\n",
       "      <td>25000.000000</td>\n",
       "      <td>25000.000000</td>\n",
       "      <td>25000.000000</td>\n",
       "      <td>25000.000000</td>\n",
       "      <td>25000.000000</td>\n",
       "    </tr>\n",
       "    <tr>\n",
       "      <th>mean</th>\n",
       "      <td>75.553030</td>\n",
       "      <td>-0.235304</td>\n",
       "      <td>-0.155696</td>\n",
       "      <td>0.577609</td>\n",
       "      <td>-0.834719</td>\n",
       "      <td>0.502156</td>\n",
       "      <td>0.424476</td>\n",
       "      <td>0.020743</td>\n",
       "      <td>-0.001274</td>\n",
       "      <td>0.237844</td>\n",
       "      <td>-0.061341</td>\n",
       "      <td>-0.051331</td>\n",
       "      <td>0.180861</td>\n",
       "      <td>0.042388</td>\n",
       "      <td>-0.039173</td>\n",
       "      <td>-0.133887</td>\n",
       "      <td>-0.039028</td>\n",
       "      <td>0.011158</td>\n",
       "      <td>0.129615</td>\n",
       "      <td>0.026043</td>\n",
       "      <td>0.012949</td>\n",
       "      <td>0.005322</td>\n",
       "      <td>0.724788</td>\n",
       "      <td>0.239871</td>\n",
       "      <td>-0.191895</td>\n",
       "      <td>0.083067</td>\n",
       "      <td>-0.128825</td>\n",
       "      <td>0.025175</td>\n",
       "      <td>0.468685</td>\n",
       "    </tr>\n",
       "    <tr>\n",
       "      <th>std</th>\n",
       "      <td>218.143788</td>\n",
       "      <td>1.892397</td>\n",
       "      <td>1.191071</td>\n",
       "      <td>1.173146</td>\n",
       "      <td>1.530353</td>\n",
       "      <td>1.198134</td>\n",
       "      <td>1.273313</td>\n",
       "      <td>0.966904</td>\n",
       "      <td>0.948178</td>\n",
       "      <td>1.165251</td>\n",
       "      <td>0.853383</td>\n",
       "      <td>0.815432</td>\n",
       "      <td>1.552683</td>\n",
       "      <td>0.657693</td>\n",
       "      <td>0.824852</td>\n",
       "      <td>0.643300</td>\n",
       "      <td>0.531151</td>\n",
       "      <td>0.590048</td>\n",
       "      <td>0.436317</td>\n",
       "      <td>0.518278</td>\n",
       "      <td>0.397226</td>\n",
       "      <td>0.267877</td>\n",
       "      <td>1.703663</td>\n",
       "      <td>1.438492</td>\n",
       "      <td>1.440784</td>\n",
       "      <td>1.324600</td>\n",
       "      <td>1.325337</td>\n",
       "      <td>1.358029</td>\n",
       "      <td>1.270288</td>\n",
       "    </tr>\n",
       "    <tr>\n",
       "      <th>min</th>\n",
       "      <td>0.000000</td>\n",
       "      <td>-30.552380</td>\n",
       "      <td>-14.166795</td>\n",
       "      <td>-2.903100</td>\n",
       "      <td>-17.769143</td>\n",
       "      <td>-3.588761</td>\n",
       "      <td>-19.214325</td>\n",
       "      <td>-4.152532</td>\n",
       "      <td>-12.227189</td>\n",
       "      <td>-18.587366</td>\n",
       "      <td>-8.061208</td>\n",
       "      <td>-4.932733</td>\n",
       "      <td>-40.978852</td>\n",
       "      <td>-13.694584</td>\n",
       "      <td>-20.262054</td>\n",
       "      <td>-8.593642</td>\n",
       "      <td>-26.751119</td>\n",
       "      <td>-2.836627</td>\n",
       "      <td>-7.495741</td>\n",
       "      <td>-1.338556</td>\n",
       "      <td>-8.567638</td>\n",
       "      <td>-9.617915</td>\n",
       "      <td>-31.103685</td>\n",
       "      <td>-5.172595</td>\n",
       "      <td>-42.147898</td>\n",
       "      <td>-23.496714</td>\n",
       "      <td>-26.548144</td>\n",
       "      <td>-41.484823</td>\n",
       "      <td>-7.175097</td>\n",
       "    </tr>\n",
       "    <tr>\n",
       "      <th>25%</th>\n",
       "      <td>6.000000</td>\n",
       "      <td>-0.958545</td>\n",
       "      <td>-0.629095</td>\n",
       "      <td>-0.250500</td>\n",
       "      <td>-2.023532</td>\n",
       "      <td>-0.335693</td>\n",
       "      <td>-0.156991</td>\n",
       "      <td>-0.536562</td>\n",
       "      <td>-0.485517</td>\n",
       "      <td>-0.266980</td>\n",
       "      <td>-0.527577</td>\n",
       "      <td>-0.538930</td>\n",
       "      <td>-0.390169</td>\n",
       "      <td>-0.158370</td>\n",
       "      <td>-0.251599</td>\n",
       "      <td>-0.556673</td>\n",
       "      <td>-0.175394</td>\n",
       "      <td>-0.326231</td>\n",
       "      <td>-0.133674</td>\n",
       "      <td>-0.336912</td>\n",
       "      <td>-0.066041</td>\n",
       "      <td>-0.009191</td>\n",
       "      <td>0.282222</td>\n",
       "      <td>-0.667705</td>\n",
       "      <td>-0.773864</td>\n",
       "      <td>-0.661107</td>\n",
       "      <td>-0.594556</td>\n",
       "      <td>-0.165916</td>\n",
       "      <td>-0.355395</td>\n",
       "    </tr>\n",
       "    <tr>\n",
       "      <th>50%</th>\n",
       "      <td>18.960000</td>\n",
       "      <td>-0.280653</td>\n",
       "      <td>-0.208909</td>\n",
       "      <td>0.561350</td>\n",
       "      <td>-0.495207</td>\n",
       "      <td>0.448277</td>\n",
       "      <td>0.394858</td>\n",
       "      <td>0.147657</td>\n",
       "      <td>0.062786</td>\n",
       "      <td>0.194296</td>\n",
       "      <td>-0.038567</td>\n",
       "      <td>-0.052345</td>\n",
       "      <td>0.185411</td>\n",
       "      <td>-0.025518</td>\n",
       "      <td>-0.101237</td>\n",
       "      <td>-0.107746</td>\n",
       "      <td>-0.049744</td>\n",
       "      <td>0.062777</td>\n",
       "      <td>0.165827</td>\n",
       "      <td>-0.047788</td>\n",
       "      <td>0.006530</td>\n",
       "      <td>0.020070</td>\n",
       "      <td>0.868834</td>\n",
       "      <td>0.213589</td>\n",
       "      <td>-0.220822</td>\n",
       "      <td>-0.177213</td>\n",
       "      <td>-0.064154</td>\n",
       "      <td>0.028684</td>\n",
       "      <td>0.382077</td>\n",
       "    </tr>\n",
       "    <tr>\n",
       "      <th>75%</th>\n",
       "      <td>67.685000</td>\n",
       "      <td>1.164524</td>\n",
       "      <td>0.282702</td>\n",
       "      <td>1.342065</td>\n",
       "      <td>0.331297</td>\n",
       "      <td>1.381851</td>\n",
       "      <td>1.260837</td>\n",
       "      <td>0.702643</td>\n",
       "      <td>0.554103</td>\n",
       "      <td>0.698303</td>\n",
       "      <td>0.436571</td>\n",
       "      <td>0.457257</td>\n",
       "      <td>0.829745</td>\n",
       "      <td>0.157912</td>\n",
       "      <td>0.070119</td>\n",
       "      <td>0.275970</td>\n",
       "      <td>0.073934</td>\n",
       "      <td>0.399689</td>\n",
       "      <td>0.409920</td>\n",
       "      <td>0.309926</td>\n",
       "      <td>0.093624</td>\n",
       "      <td>0.077301</td>\n",
       "      <td>1.497050</td>\n",
       "      <td>1.117094</td>\n",
       "      <td>0.324782</td>\n",
       "      <td>0.472846</td>\n",
       "      <td>0.450281</td>\n",
       "      <td>0.287803</td>\n",
       "      <td>1.227177</td>\n",
       "    </tr>\n",
       "    <tr>\n",
       "      <th>max</th>\n",
       "      <td>7879.420000</td>\n",
       "      <td>1.960497</td>\n",
       "      <td>12.701539</td>\n",
       "      <td>12.018913</td>\n",
       "      <td>4.846452</td>\n",
       "      <td>4.465413</td>\n",
       "      <td>7.692209</td>\n",
       "      <td>3.635042</td>\n",
       "      <td>6.098529</td>\n",
       "      <td>9.253526</td>\n",
       "      <td>4.295648</td>\n",
       "      <td>4.555359</td>\n",
       "      <td>16.713389</td>\n",
       "      <td>17.281859</td>\n",
       "      <td>22.614889</td>\n",
       "      <td>5.805795</td>\n",
       "      <td>13.876221</td>\n",
       "      <td>3.695503</td>\n",
       "      <td>5.525093</td>\n",
       "      <td>3.517346</td>\n",
       "      <td>11.135740</td>\n",
       "      <td>4.860769</td>\n",
       "      <td>4.101716</td>\n",
       "      <td>13.143668</td>\n",
       "      <td>34.099309</td>\n",
       "      <td>22.529298</td>\n",
       "      <td>36.677268</td>\n",
       "      <td>20.007208</td>\n",
       "      <td>10.392889</td>\n",
       "    </tr>\n",
       "  </tbody>\n",
       "</table>\n",
       "</div>"
      ],
      "text/plain": [
       "             Amount            V1           V10           V11           V12  \\\n",
       "count  25000.000000  25000.000000  25000.000000  25000.000000  25000.000000   \n",
       "mean      75.553030     -0.235304     -0.155696      0.577609     -0.834719   \n",
       "std      218.143788      1.892397      1.191071      1.173146      1.530353   \n",
       "min        0.000000    -30.552380    -14.166795     -2.903100    -17.769143   \n",
       "25%        6.000000     -0.958545     -0.629095     -0.250500     -2.023532   \n",
       "50%       18.960000     -0.280653     -0.208909      0.561350     -0.495207   \n",
       "75%       67.685000      1.164524      0.282702      1.342065      0.331297   \n",
       "max     7879.420000      1.960497     12.701539     12.018913      4.846452   \n",
       "\n",
       "                V13           V14           V15           V16           V17  \\\n",
       "count  25000.000000  25000.000000  25000.000000  25000.000000  25000.000000   \n",
       "mean       0.502156      0.424476      0.020743     -0.001274      0.237844   \n",
       "std        1.198134      1.273313      0.966904      0.948178      1.165251   \n",
       "min       -3.588761    -19.214325     -4.152532    -12.227189    -18.587366   \n",
       "25%       -0.335693     -0.156991     -0.536562     -0.485517     -0.266980   \n",
       "50%        0.448277      0.394858      0.147657      0.062786      0.194296   \n",
       "75%        1.381851      1.260837      0.702643      0.554103      0.698303   \n",
       "max        4.465413      7.692209      3.635042      6.098529      9.253526   \n",
       "\n",
       "                V18           V19            V2           V20           V21  \\\n",
       "count  25000.000000  25000.000000  25000.000000  25000.000000  25000.000000   \n",
       "mean      -0.061341     -0.051331      0.180861      0.042388     -0.039173   \n",
       "std        0.853383      0.815432      1.552683      0.657693      0.824852   \n",
       "min       -8.061208     -4.932733    -40.978852    -13.694584    -20.262054   \n",
       "25%       -0.527577     -0.538930     -0.390169     -0.158370     -0.251599   \n",
       "50%       -0.038567     -0.052345      0.185411     -0.025518     -0.101237   \n",
       "75%        0.436571      0.457257      0.829745      0.157912      0.070119   \n",
       "max        4.295648      4.555359     16.713389     17.281859     22.614889   \n",
       "\n",
       "                V22           V23           V24           V25           V26  \\\n",
       "count  25000.000000  25000.000000  25000.000000  25000.000000  25000.000000   \n",
       "mean      -0.133887     -0.039028      0.011158      0.129615      0.026043   \n",
       "std        0.643300      0.531151      0.590048      0.436317      0.518278   \n",
       "min       -8.593642    -26.751119     -2.836627     -7.495741     -1.338556   \n",
       "25%       -0.556673     -0.175394     -0.326231     -0.133674     -0.336912   \n",
       "50%       -0.107746     -0.049744      0.062777      0.165827     -0.047788   \n",
       "75%        0.275970      0.073934      0.399689      0.409920      0.309926   \n",
       "max        5.805795     13.876221      3.695503      5.525093      3.517346   \n",
       "\n",
       "                V27           V28            V3            V4            V5  \\\n",
       "count  25000.000000  25000.000000  25000.000000  25000.000000  25000.000000   \n",
       "mean       0.012949      0.005322      0.724788      0.239871     -0.191895   \n",
       "std        0.397226      0.267877      1.703663      1.438492      1.440784   \n",
       "min       -8.567638     -9.617915    -31.103685     -5.172595    -42.147898   \n",
       "25%       -0.066041     -0.009191      0.282222     -0.667705     -0.773864   \n",
       "50%        0.006530      0.020070      0.868834      0.213589     -0.220822   \n",
       "75%        0.093624      0.077301      1.497050      1.117094      0.324782   \n",
       "max       11.135740      4.860769      4.101716     13.143668     34.099309   \n",
       "\n",
       "                 V6            V7            V8            V9  \n",
       "count  25000.000000  25000.000000  25000.000000  25000.000000  \n",
       "mean       0.083067     -0.128825      0.025175      0.468685  \n",
       "std        1.324600      1.325337      1.358029      1.270288  \n",
       "min      -23.496714    -26.548144    -41.484823     -7.175097  \n",
       "25%       -0.661107     -0.594556     -0.165916     -0.355395  \n",
       "50%       -0.177213     -0.064154      0.028684      0.382077  \n",
       "75%        0.472846      0.450281      0.287803      1.227177  \n",
       "max       22.529298     36.677268     20.007208     10.392889  "
      ]
     },
     "metadata": {},
     "output_type": "display_data"
    }
   ],
   "source": [
    "X = X[X.columns.difference(['Time'])]\n",
    "display(X.describe())"
   ]
  },
  {
   "cell_type": "markdown",
   "id": "265c3fb7",
   "metadata": {},
   "source": [
    "We then investigate the underlying distribution of fraudulent and genuine transactions within our dataset. As seen from the value generated by `collections.Counter`, the genuine transactions make up ~99.6% of our total transactions where only ~0.4% of our dataset is fraudulent. Although this may seem like an issue for classical classification algorithms, as our algorithms are capable of identifying outliers through the underlying distribution or density of our data, there is no need to use resampling techniques such as `SMOTE` and `SMOTEEN`. As we will see later on in this report, even without resampling techniques, outlier detection algorithms are able to identify these outliers quite accurately."
   ]
  },
  {
   "cell_type": "code",
   "execution_count": 6,
   "id": "3ad2df13",
   "metadata": {
    "ExecuteTime": {
     "end_time": "2022-02-18T09:22:48.827821Z",
     "start_time": "2022-02-18T09:22:48.819399Z"
    }
   },
   "outputs": [
    {
     "data": {
      "text/plain": [
       "Counter({0: 24912, 1: 88})"
      ]
     },
     "metadata": {},
     "output_type": "display_data"
    }
   ],
   "source": [
    "from collections import Counter\n",
    "counts = Counter(target)\n",
    "display(counts)"
   ]
  },
  {
   "cell_type": "markdown",
   "id": "ac2656e8",
   "metadata": {},
   "source": [
    "To have a better view of the distributions of each feature, we generate their corresponding histograms. As we can see below, features are not uniformly distributed whereas they have more semblance to a normal distribution where a central (mean) value bin contains the most number of points in contrast to other bins. We can also see from the histograms that some values are rare or less frequent where we can hypothesized that these are probable candidates for intervention in regards to fraudulent transactions. In the next section, we utilize various Outlier detection algorithms to identify these probable fraudulent transactions. "
   ]
  },
  {
   "cell_type": "code",
   "execution_count": 7,
   "id": "0e0d291c",
   "metadata": {
    "ExecuteTime": {
     "end_time": "2022-02-18T09:22:51.911379Z",
     "start_time": "2022-02-18T09:22:48.831678Z"
    }
   },
   "outputs": [
    {
     "data": {
      "image/png": "[encoded data removed]",
      "text/plain": [
       "<Figure size 1440x1440 with 30 Axes>"
      ]
     },
     "metadata": {},
     "output_type": "display_data"
    }
   ],
   "source": [
    "X.hist(figsize=(20,20))\n",
    "plt.suptitle('Figure 1. Histogram of Training Features',\n",
    "             y = 0.1,\n",
    "             fontsize = 24)\n",
    "plt.show()"
   ]
  },
  {
   "cell_type": "markdown",
   "id": "b92fe5d9",
   "metadata": {},
   "source": [
    "<div><span style=\"background-color: #47535c; padding-top: 100px; padding-right: 20px; padding-bottom: 50px; padding-left: 20px; color: #FFFFFF; font-size: 25px; font-weight: bold\">4. RESULTS AND DISCUSSION</span></div>"
   ]
  },
  {
   "cell_type": "code",
   "execution_count": 8,
   "id": "9e63253b",
   "metadata": {
    "ExecuteTime": {
     "end_time": "2022-02-18T09:22:52.202573Z",
     "start_time": "2022-02-18T09:22:51.913298Z"
    }
   },
   "outputs": [],
   "source": [
    "from sklearn.metrics import confusion_matrix, accuracy_score"
   ]
  },
  {
   "cell_type": "markdown",
   "id": "e1860fdb",
   "metadata": {},
   "source": [
    "For the purpose of this paper, we look at the varying metrics that we can derive from the predictions of our algorithms. Aside from accuracy score, we also look at metrics such as `recall` and `precision` to measure the performance of each algorithm. `Recall` in the context in this paper, measures the ability of our algorithms to identify all fraudulent transactions in our dataset. In contrast, `Precision` measures the ability of our algorithms to identify fraudulent transactions with limited falsely identified transactions (False Positives). Since it would be more costly for banks and users to allow fraudulent claims through (False Negatives), `Recall` would be our primary metric to measure the performance of our algorithms. Parameters used for each model was determined through multiple experimentations but only the best performing models are mentioned in this paper."
   ]
  },
  {
   "cell_type": "markdown",
   "id": "cfcd93e7",
   "metadata": {},
   "source": [
    "<div><span style=\"background-color: #FFFFFF; padding-top: 100px; padding-right: 20px; padding-bottom: 50px; padding-left: 10px; color: #47535c; font-size: 15px; font-weight: bold\">4.1.1 Local Outlier Factor</span></div>"
   ]
  },
  {
   "cell_type": "markdown",
   "id": "99c7d8e4",
   "metadata": {},
   "source": [
    "The Local Outlier Factor is based on the idea of quantifying the local density of the K-nearest neighbors of a point. Whereas, by comparing the invidual local densities of each point with the local densities of its K-neighbors, we can identify regions of similar density. Through this idea, data points with a comparatively lower density than its neighbors are identified as outliers. The benefit of using this algorithm is that it is able to adjust for variations and is robust enough to account for varying local densities. "
   ]
  },
  {
   "cell_type": "code",
   "execution_count": 9,
   "id": "ace6a756",
   "metadata": {
    "ExecuteTime": {
     "end_time": "2022-02-18T09:22:52.236329Z",
     "start_time": "2022-02-18T09:22:52.205395Z"
    }
   },
   "outputs": [],
   "source": [
    "from sklearn.neighbors import LocalOutlierFactor"
   ]
  },
  {
   "cell_type": "code",
   "execution_count": 10,
   "id": "c5a64587",
   "metadata": {
    "ExecuteTime": {
     "end_time": "2022-02-18T09:23:19.415845Z",
     "start_time": "2022-02-18T09:22:52.238038Z"
    }
   },
   "outputs": [
    {
     "data": {
      "text/plain": [
       "LocalOutlierFactor(n_neighbors=125)"
      ]
     },
     "metadata": {},
     "output_type": "display_data"
    },
    {
     "name": "stdout",
     "output_type": "stream",
     "text": [
      "Recall Score : 0.8522727272727273\n",
      "Precision Score : 0.0591016548463357\n",
      "Accuracy Score : 0.95172\n",
      "Estimated number of noise points: 1269\n"
     ]
    }
   ],
   "source": [
    "model = LocalOutlierFactor(n_neighbors = int(0.005*len(X)))\n",
    "model.fit(X)\n",
    "y_pred_411 = model.fit_predict(X)\n",
    "y_pred_411[y_pred_411 == 1] = 0\n",
    "y_pred_411[y_pred_411 == -1] = 1\n",
    "\n",
    "cmat = confusion_matrix(target,y_pred_411)\n",
    "tn, fp, fn, tp = cmat.ravel()\n",
    "recall = (tp)/(tp+fn)\n",
    "prec = (tp)/(tp+fp)\n",
    "display(model)\n",
    "print(f'Recall Score : {recall}')\n",
    "print(f'Precision Score : {prec}')\n",
    "print(f'Accuracy Score : {accuracy_score(target, y_pred_411)}')\n",
    "print('Estimated number of noise points: %d' % len(y_pred_411[y_pred_411 == 1]))"
   ]
  },
  {
   "cell_type": "markdown",
   "id": "b6eea0b6",
   "metadata": {},
   "source": [
    "<div><span style=\"background-color: #FFFFFF; padding-top: 100px; padding-right: 20px; padding-bottom: 50px; padding-left: 10px; color: #47535c; font-size: 15px; font-weight: bold\">4.1.2 Isolation Forest</span></div>"
   ]
  },
  {
   "cell_type": "markdown",
   "id": "11b1feba",
   "metadata": {},
   "source": [
    "Isolation Forest, on the other hand, is an ensemble combination of a set of isolation trees. This method performs similarly to decision trees whereas it recursively partitions our data (parallel to our axis) until these points are isolated into leaves with fewer members or instances. Shorter branches would indicate that points within a particular region would indicate less deep trees due to the sparsity of information in these locations. These shorter branches are what we tag as outliers. However, similar to Random Forest Algorithms, the results of multiple isolation trees are averaged to form the isolation forest that has a smaller variance in contrast to isolation trees. "
   ]
  },
  {
   "cell_type": "code",
   "execution_count": 11,
   "id": "e4544263",
   "metadata": {
    "ExecuteTime": {
     "end_time": "2022-02-18T09:23:19.439574Z",
     "start_time": "2022-02-18T09:23:19.418090Z"
    }
   },
   "outputs": [],
   "source": [
    "from sklearn.ensemble import IsolationForest"
   ]
  },
  {
   "cell_type": "code",
   "execution_count": 12,
   "id": "3468fc01",
   "metadata": {
    "ExecuteTime": {
     "end_time": "2022-02-18T09:23:30.515591Z",
     "start_time": "2022-02-18T09:23:19.441096Z"
    }
   },
   "outputs": [
    {
     "data": {
      "text/plain": [
       "IsolationForest(max_samples=25000, n_estimators=500, random_state=0)"
      ]
     },
     "metadata": {},
     "output_type": "display_data"
    },
    {
     "name": "stdout",
     "output_type": "stream",
     "text": [
      "Recall Score : 0.7045454545454546\n",
      "Precision Score : 0.31155778894472363\n",
      "Accuracy Score : 0.99348\n",
      "Estimated number of noise points: 199\n"
     ]
    }
   ],
   "source": [
    "model = IsolationForest(n_estimators=500,\n",
    "                        max_samples = len(X),\n",
    "                        contamination='auto',\n",
    "                        random_state=0)\n",
    "model.fit(X)\n",
    "y_pred_412 = model.fit_predict(X)\n",
    "y_pred_412[y_pred_412 == 1] = 0\n",
    "y_pred_412[y_pred_412 == -1] = 1\n",
    "\n",
    "cmat = confusion_matrix(target,y_pred_412)\n",
    "tn, fp, fn, tp = cmat.ravel()\n",
    "recall = (tp)/(tp+fn)\n",
    "prec = (tp)/(tp+fp)\n",
    "display(model)\n",
    "print(f'Recall Score : {recall}')\n",
    "print(f'Precision Score : {prec}')\n",
    "print(f'Accuracy Score : {accuracy_score(target, y_pred_412)}')\n",
    "print('Estimated number of noise points: %d' % len(y_pred_412[y_pred_412 == 1]))"
   ]
  },
  {
   "cell_type": "markdown",
   "id": "42a8427e",
   "metadata": {},
   "source": [
    "<div><span style=\"background-color: #FFFFFF; padding-top: 100px; padding-right: 20px; padding-bottom: 50px; padding-left: 10px; color: #47535c; font-size: 15px; font-weight: bold\">4.1.3 One-Class SVM</span></div>"
   ]
  },
  {
   "cell_type": "markdown",
   "id": "60c427e7",
   "metadata": {},
   "source": [
    "One-Class SVMs are actually not design for outlier detection but for novelty detection where the goal is to detect rare events or events that rarely occur. One-Class SVMs inherit the property of typical binary and multi-class SVMs where it classifies points by determining hyperplanes or hyperspheres that splits the data plane into n-classes. One-Class SVMs differ in the sense that as there is only one class we have to identify, we add an additional goal of maximizing the distance of novelties (or outliers in this case) from the hyperplane or hypersphere. This results to a function that identifies highly dense locations as spaces where genuine transactions lie while less dense spaces are regions where we can find novelties or fraudulent transactions."
   ]
  },
  {
   "cell_type": "code",
   "execution_count": 13,
   "id": "287318ac",
   "metadata": {
    "ExecuteTime": {
     "end_time": "2022-02-18T09:23:53.827970Z",
     "start_time": "2022-02-18T09:23:30.517884Z"
    }
   },
   "outputs": [
    {
     "data": {
      "text/plain": [
       "OneClassSVM(nu=0.1)"
      ]
     },
     "metadata": {},
     "output_type": "display_data"
    },
    {
     "name": "stdout",
     "output_type": "stream",
     "text": [
      "Recall Score : 0.7727272727272727\n",
      "Precision Score : 0.02723267921505807\n",
      "Accuracy Score : 0.90204\n",
      "Estimated number of noise points: 2497\n"
     ]
    }
   ],
   "source": [
    "from sklearn import svm\n",
    "model = svm.OneClassSVM(nu=0.1, kernel='rbf') # nu is 1/C\n",
    "model.fit(X)\n",
    "\n",
    "# prediction of outliers is based on contamination level\n",
    "y_pred_413 = model.fit_predict(X)\n",
    "y_pred_413[y_pred_413 == 1] = 0\n",
    "y_pred_413[y_pred_413 == -1] = 1\n",
    "\n",
    "cmat = confusion_matrix(target,y_pred_413)\n",
    "tn, fp, fn, tp = cmat.ravel()\n",
    "recall = (tp)/(tp+fn)\n",
    "prec = (tp)/(tp+fp)\n",
    "display(model)\n",
    "print(f'Recall Score : {recall}')\n",
    "print(f'Precision Score : {prec}')\n",
    "print(f'Accuracy Score : {accuracy_score(target, y_pred_413)}')\n",
    "print('Estimated number of noise points: %d' % len(y_pred_413[y_pred_413 == 1]))"
   ]
  },
  {
   "cell_type": "markdown",
   "id": "292a9bcb",
   "metadata": {},
   "source": [
    "<div><span style=\"background-color: #FFFFFF; padding-top: 100px; padding-right: 20px; padding-bottom: 50px; padding-left: 10px; color: #47535c; font-size: 15px; font-weight: bold\">4.1.4 DBSCAN</span></div>"
   ]
  },
  {
   "cell_type": "markdown",
   "id": "7f022e8c",
   "metadata": {},
   "source": [
    "DBSCAN or Density-based Spatial Clustering of Applications of Noise is a clustering algorithm that is capable of identifying outliers that lie in a low-density region while clustering other points into dense and compact clusters. It leverages on the idea of 'reachability' that measures the distance of a point to its K-nearest neighbors. If a point is said to be far or not reachable from any of the members of a cluster, then that point is tagged as an outlier or, in our case, a fraudulent transaction."
   ]
  },
  {
   "cell_type": "code",
   "execution_count": 14,
   "id": "9667cb14",
   "metadata": {
    "ExecuteTime": {
     "end_time": "2022-02-18T09:23:53.859466Z",
     "start_time": "2022-02-18T09:23:53.830150Z"
    }
   },
   "outputs": [],
   "source": [
    "import numpy as np\n",
    "from sklearn import metrics\n",
    "from sklearn.cluster import DBSCAN\n",
    "from sklearn.neighbors import NearestNeighbors"
   ]
  },
  {
   "cell_type": "code",
   "execution_count": 15,
   "id": "341c45f5",
   "metadata": {
    "ExecuteTime": {
     "end_time": "2022-02-18T09:24:02.403579Z",
     "start_time": "2022-02-18T09:23:53.861145Z"
    }
   },
   "outputs": [],
   "source": [
    "nn = NearestNeighbors(n_neighbors = 2).fit(X)\n",
    "distances, indices = nn.kneighbors(X)\n",
    "dist = np.sort(distances[:,1], axis = 0)"
   ]
  },
  {
   "cell_type": "code",
   "execution_count": 16,
   "id": "e8a6c1ce",
   "metadata": {
    "ExecuteTime": {
     "end_time": "2022-02-18T09:24:02.538265Z",
     "start_time": "2022-02-18T09:24:02.405679Z"
    }
   },
   "outputs": [
    {
     "data": {
      "image/png": "[encoded data removed]",
      "text/plain": [
       "<Figure size 720x504 with 1 Axes>"
      ]
     },
     "metadata": {},
     "output_type": "display_data"
    }
   ],
   "source": [
    "# Elbow Method\n",
    "plt.plot(dist)\n",
    "plt.axhline(y=10, color='r', linestyle='--', alpha = 0.25)\n",
    "plt.xlim(20_200, 25_100)\n",
    "plt.ylim(0, 200)\n",
    "plt.title('Figure 2. Identifying Optimal `eps` for DBSCAN using the Elbow Method',\n",
    "             y = -0.15,\n",
    "             fontsize = 12)\n",
    "pass"
   ]
  },
  {
   "cell_type": "code",
   "execution_count": 17,
   "id": "ad8313e4",
   "metadata": {
    "ExecuteTime": {
     "end_time": "2022-02-18T09:24:21.060893Z",
     "start_time": "2022-02-18T09:24:02.540103Z"
    }
   },
   "outputs": [
    {
     "data": {
      "text/plain": [
       "OneClassSVM(nu=0.1)"
      ]
     },
     "metadata": {},
     "output_type": "display_data"
    },
    {
     "name": "stdout",
     "output_type": "stream",
     "text": [
      "Recall Score : 0.8181818181818182\n",
      "Precision Score : 0.04114285714285714\n",
      "Accuracy Score : 0.93224\n",
      "Estimated number of noise points: 1750\n"
     ]
    }
   ],
   "source": [
    "db = DBSCAN(eps = 10, min_samples = len(X) * 0.005).fit(X)\n",
    "core_samples_mask = np.zeros_like(db.labels_, dtype=bool)\n",
    "core_samples_mask[db.core_sample_indices_] = True\n",
    "labels = db.labels_\n",
    "\n",
    "# Number of clusters in labels, ignoring noise if present.\n",
    "n_clusters_ = len(set(labels)) - (1 if -1 in labels else 0)\n",
    "n_noise_ = list(labels).count(-1)\n",
    "score = metrics.silhouette_score(X, labels)\n",
    "\n",
    "y_pred_414 = labels.copy()\n",
    "y_pred_414[y_pred_414 == -1] = 1\n",
    "\n",
    "cmat = confusion_matrix(target,y_pred_414)\n",
    "tn, fp, fn, tp = cmat.ravel()\n",
    "recall = (tp)/(tp+fn)\n",
    "prec = (tp)/(tp+fp)\n",
    "display(model)\n",
    "print(f'Recall Score : {recall}')\n",
    "print(f'Precision Score : {prec}')\n",
    "print(f'Accuracy Score : {accuracy_score(target, y_pred_414)}')\n",
    "print('Estimated number of noise points: %d' % n_noise_)"
   ]
  },
  {
   "cell_type": "code",
   "execution_count": 18,
   "id": "d41bc11c",
   "metadata": {
    "ExecuteTime": {
     "end_time": "2022-02-18T09:24:21.191926Z",
     "start_time": "2022-02-18T09:24:21.062726Z"
    }
   },
   "outputs": [],
   "source": [
    "labels = ['Isolation Forest', 'LOF', 'DBSCAN', 'One-Class SVM']\n",
    "preds = [y_pred_412, y_pred_411, y_pred_414, y_pred_413]\n",
    "n_outliers = [sum([1 for i in zip(p, target) if sum(i) == 2]) for p in preds]\n",
    "FN = [sum([1 for i in zip(p,target) if i == (0, 1)]) for p in preds]\n",
    "FP = [sum([1 for i in zip(p,target) if i == (1, 0)]) for p in preds]"
   ]
  },
  {
   "cell_type": "markdown",
   "id": "7a1730fe",
   "metadata": {},
   "source": [
    "<div><span style=\"background-color: #FFFFFF; padding-top: 100px; padding-right: 20px; padding-bottom: 50px; padding-left: 10px; color: #47535c; font-size: 20px; font-weight: bold\">4.2 Visualizing Results of Outlier Detection Algorithms</span></div>"
   ]
  },
  {
   "cell_type": "markdown",
   "id": "84c7efc2",
   "metadata": {},
   "source": [
    "Shown below is a visualization detailing the results of our outlier detection algorithms. It represents the number of fraudulent and non-fraudulent transactions identified within our dataset for each algorithm used. It contains two subplots, the first subplot details the transactions that were identified as fraudulent by our algorithms. It also specifies the total number of points that are actually fraudulent (True Positives) and points that were identified as fraudulent but actually genuine (False Positives). The other subplot details the total number of transactions that are actually fraudulent but identified as genuine (False Negatives). "
   ]
  },
  {
   "cell_type": "code",
   "execution_count": 19,
   "id": "ea3609bc",
   "metadata": {
    "ExecuteTime": {
     "end_time": "2022-02-18T09:24:21.653651Z",
     "start_time": "2022-02-18T09:24:21.194134Z"
    }
   },
   "outputs": [
    {
     "data": {
      "image/png": "[encoded data removed]",
      "text/plain": [
       "<Figure size 720x504 with 2 Axes>"
      ]
     },
     "metadata": {},
     "output_type": "display_data"
    }
   ],
   "source": [
    "import matplotlib as mpl\n",
    "from matplotlib.patches import Patch\n",
    "\n",
    "mpl.rcParams['hatch.linewidth'] = 1.5 \n",
    "\n",
    "legend_elements = [Patch(facecolor='red', label='Outliers'),\n",
    "                   Patch(facecolor='blue', label='False Positives'),\n",
    "                   Patch(facecolor='gray', label='False Negatives')]\n",
    "width = 0.5 \n",
    "\n",
    "fig, (ax1, ax2) = plt.subplots(1,2,\n",
    "                               sharey = True,\n",
    "                               gridspec_kw={'width_ratios': [2, 1]})\n",
    "\n",
    "ax1.barh(labels, n_outliers, width, label='Detected Outliers (True Positives)',\n",
    "         color = '#051b2a')\n",
    "ax1.barh(labels, FP, width, left = n_outliers, label = 'False Positives',\n",
    "         color = '#009ce4')\n",
    "\n",
    "k=0\n",
    "for bar in ax1.patches:\n",
    "    if k < 4:\n",
    "        ax1.annotate(bar.get_width(),\n",
    "                    (bar.get_width(),\n",
    "                     bar.get_y() + bar.get_height()/2),\n",
    "                     ha='center', va='center',\n",
    "                     rotation = 270,\n",
    "                     color = 'white',\n",
    "                     size=11, xytext=(3, 0),\n",
    "                     textcoords='offset points')\n",
    "    else:\n",
    "        ax1.annotate(bar.get_width(),\n",
    "            (bar.get_width(),\n",
    "             bar.get_y() + bar.get_height()/2),\n",
    "             ha='center', va='center',\n",
    "             rotation = 270,\n",
    "             color = '#051b2a',\n",
    "             size=11, xytext=(13, 0),\n",
    "             textcoords='offset points')\n",
    "    k+=1\n",
    "\n",
    "ax1.set_ylabel('Detected Outliers')\n",
    "ax1.set_title('Detected Fraud')\n",
    "ax1.legend()\n",
    "\n",
    "ax2.barh(labels, FN, width, label='False Negatives',\n",
    "         color = '#1e3ec3',\n",
    "         )\n",
    "ax2.set_xlim(0,100)\n",
    "ax2.set_title('Undetected Fraud')\n",
    "\n",
    "for bar in ax2.patches:\n",
    "    ax2.annotate(bar.get_width(),\n",
    "        (bar.get_width(),\n",
    "         bar.get_y() + bar.get_height()/2),\n",
    "         ha='center', va='center',\n",
    "         rotation = 270,\n",
    "         color = '#051b2a',\n",
    "         size=11, xytext=(5, 0),\n",
    "         textcoords='offset points')\n",
    "\n",
    "ax1.set_facecolor('white')\n",
    "ax1.grid(color='gainsboro', linestyle='--', linewidth=0.5)\n",
    "ax2.set_facecolor('white')\n",
    "ax2.spines['left'].set_linewidth(0.5)\n",
    "ax2.spines['left'].set_linestyle('--')\n",
    "ax2.spines['left'].set_color('k')\n",
    "ax2.grid(color='gainsboro', linestyle='--', linewidth=0.5)\n",
    "fig.tight_layout()\n",
    "\n",
    "fig.text(0.65,-0.025, 'Number of Points', ha='center')\n",
    "plt.show()"
   ]
  },
  {
   "cell_type": "markdown",
   "id": "f346b6e8",
   "metadata": {},
   "source": [
    "From the figure above, we can see that `Isolation Forest` identified the least number of outliers (199) while also having the most number of undetected fraudulent transactions (26). In contrast, `LOF` and `DBSCAN` identified more outliers while having fewer undetected fraudulent transactions. Lastly, `One-Class SVM` identified the most outliers between our outlier detection algorithms while still having more undetected fraudulent transactions in contrast to `LOF` and `DBSCAN`.\n",
    "\n",
    "As a general observation, all four algorithms were able to identify majority of our fraudulent transactions (True Positives), however it is clear that a significant number of genuine transactions were falsely classified as fraudulent (False Positives). With the challenge of identifying the trade-offs between having more False Positives but lower False Negatives, we can clearly see that `LOF` and `Isolation Forest` are the best outlier detection models which showcases the two extremes of our ideal fraud detection algorithm.  Whereas although `Isolation Forest` was the worse in terms of the number of undetected fraudulent transactions, it was able to do this with the least number of False Positives of 137 falsely flagged transactions. In contrast, `LOF` was able to detect the most number of fraudulent transactions with only 13 undetected fraudulent transactions. This is half the amount missed by `Isolation Forest`. However, this comes with the trade-off of falsely flagging more genuine transactions within our dataset as fraudulent. To determine which one is better generally requires subject matter expertise or more domain-specific metrics. However, one can argue that missed fraudulent transactions are more costly compared to the inconvenience of some customers for their transactions. The repercussions of having credit card user's hard-earned money loss to fraudulent transactions is greater in contrast to a few confirmatory steps required to clear up falsely flagged transactions. As such, `LOF` clearly outperforms other outlier detection algorithms in this regard. This difference can be better represented in a table format in the following section. "
   ]
  },
  {
   "cell_type": "markdown",
   "id": "b6b73930",
   "metadata": {},
   "source": [
    "<div><span style=\"background-color: #FFFFFF; padding-top: 100px; padding-right: 20px; padding-bottom: 50px; padding-left: 10px; color: #47535c; font-size: 20px; font-weight: bold\">4.3 Summary of Results</span></div>"
   ]
  },
  {
   "cell_type": "markdown",
   "id": "82992e91",
   "metadata": {},
   "source": [
    "| Algorithm Used | Precision  | Recall | Accuracy | Number of Outliers |\n",
    "| :---        |    :----:   |          :---: |          :---: |          ---: |\n",
    "| Isolation Forest      | 0.312 | 0.704 | 0.993 | 199 |\n",
    "| Local Outlier Factor   | 0.059 | 0.852 | 0.952  | 1269 |\n",
    "| DBSCAN   | 0.041  | 0.818      | 0.932  | 1750  |\n",
    "| One-Class SVM   | 0.027  | 0.773      | 0.902  | 2497  |"
   ]
  },
  {
   "cell_type": "markdown",
   "id": "43be6a43",
   "metadata": {},
   "source": [
    "Re-itterating our findings from the previous section, `LOF` resulted to the highest `recall` from our outlier detection algorithms. `Recall`, as mentioned earlier, prioritizes the ability of our algorithms to identify all fraudulent transactions in our dataset. So, although `Isolation Forest` has a higher `Precision` and `Accuracy`, it still pales in comparison to `LOF`'s recall.  \n",
    "\n",
    "Looking at `DBSCAN`'s and `One-Class SVM`'s performance, although they identified more transactions as fraudulent, they did not necessarily return better results in contrast to `LOF`. This suggests that `LOF`'s inherent ability to distinguish local communities within our high-dimensional dataset improved its performance to identify these fraudulent transactions. "
   ]
  },
  {
   "cell_type": "markdown",
   "id": "5fbc7f0a",
   "metadata": {},
   "source": [
    "<div><span style=\"background-color: #47535c; padding-top: 100px; padding-right: 20px; padding-bottom: 50px; padding-left: 20px; color: #FFFFFF; font-size: 25px; font-weight: bold\">5. CONCLUSION </span></div>"
   ]
  },
  {
   "cell_type": "markdown",
   "id": "6f4660fb",
   "metadata": {},
   "source": [
    "From our results from Section `4.1`, Section `4.2`, and Section `4.3`, the best outlier detection algorithm with respect to Credit Card Fraud Detection is `Local Outlier Factors` which although flagged more False Positives in contrast to `Isolation Forest`, it was still able to identify the most True Positives between the other algorithms. With the trade-off of having a lower accuracy, `Local Outlier Factor` had the highest recall from among its peers. Another observation we can derive from our findings is that although algorithms such as `DBSCAN` and `One-Class SVM` tagged more transactions as fraudulent (Positives), it did not necessarily translate to more actual fraudulent transactions (True Positives) being detected. \n",
    "\n",
    "Through the use of algorithms such as `LOF` and `Isolation Forest` we are able to distinguish outliers or fraudulent transactions without the knowledge of the actual labels of each point. Therefore, unlike supervised classification algorithms designed for classifying on imbalanced datasets that may require resampling techniques such as `SMOTE`, outlier detection algorithms are relatively easier to implement as it requires fewer information to operate (e.g. the lack of a target class)."
   ]
  },
  {
   "cell_type": "markdown",
   "id": "606a2100",
   "metadata": {},
   "source": [
    "<div><span style=\"background-color: #47535c; padding-top: 100px; padding-right: 20px; padding-bottom: 50px; padding-left: 20px; color: #FFFFFF; font-size: 25px; font-weight: bold\">6. REFERENCES </span></div>"
   ]
  },
  {
   "cell_type": "markdown",
   "id": "02b3b2cc",
   "metadata": {},
   "source": [
    "[1] Dwivedi, A.K., Rai, A.K., Kashyap, A. (2021). Fraud Detection in Credit Card Transactions using Anomaly Detection. Turkish Journal of Computer and Mathematics Education. 12(12), 837-846. https://turcomat.org/index.php/turkbilmat/article/view/7473 "
   ]
  }
 ],
 "metadata": {
  "kernelspec": {
   "display_name": "Python 3 (ipykernel)",
   "language": "python",
   "name": "python3"
  },
  "language_info": {
   "codemirror_mode": {
    "name": "ipython",
    "version": 3
   },
   "file_extension": ".py",
   "mimetype": "text/x-python",
   "name": "python",
   "nbconvert_exporter": "python",
   "pygments_lexer": "ipython3",
   "version": "3.9.6"
  },
  "toc": {
   "base_numbering": 1,
   "nav_menu": {},
   "number_sections": true,
   "sideBar": true,
   "skip_h1_title": false,
   "title_cell": "Table of Contents",
   "title_sidebar": "Contents",
   "toc_cell": false,
   "toc_position": {},
   "toc_section_display": true,
   "toc_window_display": false
  }
 },
 "nbformat": 4,
 "nbformat_minor": 5
}
